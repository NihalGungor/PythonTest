{
 "cells": [
  {
   "cell_type": "markdown",
   "metadata": {},
   "source": [
    "staged\n",
    "modified\n",
    "unmodified"
   ]
  }
 ],
 "metadata": {
  "kernelspec": {
   "display_name": "Python 3.10.7 64-bit (system)",
   "language": "python",
   "name": "python3"
  },
  "language_info": {
   "name": "python",
   "version": "3.10.7"
  },
  "orig_nbformat": 4,
  "vscode": {
   "interpreter": {
    "hash": "f0954166635c589228ebf2cf2e8b5d420f68dfd5503cbbc811885591b45237d0"
   }
  }
 },
 "nbformat": 4,
 "nbformat_minor": 2
}
